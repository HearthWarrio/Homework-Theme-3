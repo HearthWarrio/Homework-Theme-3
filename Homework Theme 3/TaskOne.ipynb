{
 "cells": [
  {
   "cell_type": "code",
   "execution_count": 1,
   "id": "8ff6a364-7dcc-41c6-ac07-a3cc5a9112b7",
   "metadata": {},
   "outputs": [
    {
     "name": "stdout",
     "output_type": "stream",
     "text": [
      "15\n",
      "15\n",
      "10\n",
      "-3\n"
     ]
    }
   ],
   "source": [
    "def sum_distance(from_val, to_val):\n",
    "    if from_val > to_val:\n",
    "        from_val, to_val = to_val, from_val\n",
    "    \n",
    "    return (from_val + to_val) * (to_val - from_val + 1) // 2\n",
    "\n",
    "print(sum_distance(1, 5)) \n",
    "print(sum_distance(5, 1))  \n",
    "print(sum_distance(10, 10)) \n",
    "print(sum_distance(-3, 2)) "
   ]
  },
  {
   "cell_type": "code",
   "execution_count": null,
   "id": "5e0c778c-37d7-4a39-b2fa-8758a9770d7c",
   "metadata": {},
   "outputs": [],
   "source": []
  }
 ],
 "metadata": {
  "kernelspec": {
   "display_name": "Python 3 (ipykernel)",
   "language": "python",
   "name": "python3"
  },
  "language_info": {
   "codemirror_mode": {
    "name": "ipython",
    "version": 3
   },
   "file_extension": ".py",
   "mimetype": "text/x-python",
   "name": "python",
   "nbconvert_exporter": "python",
   "pygments_lexer": "ipython3",
   "version": "3.13.0"
  }
 },
 "nbformat": 4,
 "nbformat_minor": 5
}
