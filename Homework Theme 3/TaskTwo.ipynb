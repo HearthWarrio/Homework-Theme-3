{
 "cells": [
  {
   "cell_type": "code",
   "execution_count": null,
   "id": "00864c1b-6923-487e-844a-4645490ecb5a",
   "metadata": {},
   "outputs": [],
   "source": [
    "def trim_and_repeat(string, offset=0, repetitions=1):\n",
    "    \n",
    "    trimmed_string = string[offset:]\n",
    "    \n",
    "    result = trimmed_string * repetitions\n",
    "    \n",
    "    return result\n",
    "\n",
    "print(trim_and_repeat(\"Hello, World!\", 7))  \n",
    "print(trim_and_repeat(\"Hello, World!\", 7, 3))  \n",
    "print(trim_and_repeat(\"Python\", 2, 2))  \n",
    "print(trim_and_repeat(\"OpenAI\"))"
   ]
  }
 ],
 "metadata": {
  "kernelspec": {
   "display_name": "Python 3 (ipykernel)",
   "language": "python",
   "name": "python3"
  },
  "language_info": {
   "codemirror_mode": {
    "name": "ipython",
    "version": 3
   },
   "file_extension": ".py",
   "mimetype": "text/x-python",
   "name": "python",
   "nbconvert_exporter": "python",
   "pygments_lexer": "ipython3",
   "version": "3.13.0"
  }
 },
 "nbformat": 4,
 "nbformat_minor": 5
}
